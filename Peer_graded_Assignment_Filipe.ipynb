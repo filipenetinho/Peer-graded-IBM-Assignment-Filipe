{
 "cells": [
  {
   "cell_type": "markdown",
   "id": "9236f2a4",
   "metadata": {},
   "source": [
    "# My Jupyter Notebook on IBM Watson Studio"
   ]
  },
  {
   "cell_type": "markdown",
   "id": "6f619f63",
   "metadata": {},
   "source": [
    "**Filipe Silva Santos**\n",
    "\n",
    "Data Analyst - Business Strategy"
   ]
  },
  {
   "cell_type": "markdown",
   "id": "1ec93721",
   "metadata": {},
   "source": [
    "*I'm interested on Data Science because I want to change my carreer path, and I have an analytical side that learned to love data on my last internship experience, then I decided to start learning DS.*\n",
    "\n",
    "*Now I'm studying some tools and being introduced on the Data Science's Universe by IBM course. Later I will learn deeply Python and SQL to improve my skills.*"
   ]
  },
  {
   "cell_type": "markdown",
   "id": "c559e19c",
   "metadata": {},
   "source": [
    "### Get USD to BRL Exchange Rate"
   ]
  },
  {
   "cell_type": "code",
   "execution_count": 16,
   "id": "f02d5f4b",
   "metadata": {},
   "outputs": [
    {
     "name": "stdout",
     "output_type": "stream",
     "text": [
      "USD to BRL Rate = 5.1295\n"
     ]
    }
   ],
   "source": [
    "#Step 1: Install Selenium to work with web automation\n",
    "!pip install selenium\n",
    "\n",
    "#Step 2: Import Selenium libraries\n",
    "from selenium import webdriver\n",
    "navegador = webdriver.Chrome()\n",
    "\n",
    "from selenium.webdriver.common.keys import Keys\n",
    "\n",
    "## To run on a secondary screen, use the code below:\n",
    "\n",
    "#Step 3: Get day's USD to BRL Exchange Rate\n",
    "## 3.1 - Enter on Google\n",
    "navegador.get(\"https://www.google.com/\")\n",
    "\n",
    "##3.2 - Get xpath to search the Exchange Rate\n",
    "navegador.find_element('xpath', '/html/body/div[1]/div[3]/form/div[1]/div[1]/div[1]/div/div[2]/input').send_keys(\"USD to BRL\")\n",
    "navegador.find_element('xpath', '/html/body/div[1]/div[3]/form/div[1]/div[1]/div[1]/div/div[2]/input').send_keys(Keys.ENTER)\n",
    "\n",
    "##3.3 - Get xpath to copy the Exchange Rate value\n",
    "cotacao_dolar = navegador.find_element('xpath', '//*[@id=\"knowledge-currency__updatable-data-column\"]/div[1]/div[2]/span[1]').get_attribute('data-value')\n",
    "\n",
    "#Step 4: Print Exchange Rate\n",
    "print (\"USD to BRL Rate =\", cotacao_dolar)"
   ]
  },
  {
   "cell_type": "markdown",
   "id": "08c4050d",
   "metadata": {},
   "source": [
    "---\n",
    "**So, remember, to create that code you need to follow these steps:**\n",
    "\n",
    "* Step 1: Install Selenium to work with web automation\n",
    "* Step 2: Import Selenium libraries\n",
    "* Step 3: Get day's USD to BRL Exchange Rate\n",
    "    1. Enter on Google\n",
    "    2. Get xpath to search the Exchange Rate\n",
    "    3. Get xpath to copy the Exchange Rate value\n",
    "* Step 4: Print Exchange Rate"
   ]
  }
 ],
 "metadata": {
  "kernelspec": {
   "display_name": "Python 3 (ipykernel)",
   "language": "python",
   "name": "python3"
  },
  "language_info": {
   "codemirror_mode": {
    "name": "ipython",
    "version": 3
   },
   "file_extension": ".py",
   "mimetype": "text/x-python",
   "name": "python",
   "nbconvert_exporter": "python",
   "pygments_lexer": "ipython3",
   "version": "3.9.13"
  }
 },
 "nbformat": 4,
 "nbformat_minor": 5
}
