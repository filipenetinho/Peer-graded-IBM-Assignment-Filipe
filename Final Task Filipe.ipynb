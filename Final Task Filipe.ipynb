{
 "cells": [
  {
   "cell_type": "markdown",
   "id": "1374ffe7",
   "metadata": {},
   "source": [
    "# My Jupyter Notebook Final Task"
   ]
  },
  {
   "cell_type": "markdown",
   "id": "8b3387b0",
   "metadata": {},
   "source": [
    "**Filipe Silva Santos**\n",
    "\n",
    "Data Analyst - Business Strategy"
   ]
  },
  {
   "cell_type": "markdown",
   "id": "d4bff94f",
   "metadata": {},
   "source": [
    "*I'm interested on Data Science because I want to change my carreer path, and I have an analytical side that learned to love data on my last internship experience, then I decided to start learning DS.*\n",
    "\n",
    "*Now I'm studying some tools and being introduced on the Data Science's Universe by IBM course. Later I will learn deeply Python and SQL to improve my skills.*"
   ]
  },
  {
   "cell_type": "markdown",
   "id": "5e0c9888",
   "metadata": {},
   "source": [
    "As we learned on this course, here are some languages used on data science:\n",
    "* Python\n",
    "* SQL (structured Query Language)\n",
    "* R\n",
    "* JavaScript\n",
    "* Julia"
   ]
  },
  {
   "cell_type": "markdown",
   "id": "0993dfb7",
   "metadata": {},
   "source": [
    "To help these language, we use some libraries, created for data science. These are some of the main data science libraries:\n",
    "* NumPy\n",
    "* Pandas\n",
    "* Matplotlib\n",
    "* Scikit-Learn\n",
    "* TensorFlow\n",
    "\n",
    "And many more..."
   ]
  },
  {
   "cell_type": "markdown",
   "id": "88071d07",
   "metadata": {},
   "source": [
    "In addition to libraries, you can see some Data Science Tools in the following table:\n",
    "\n",
    "| | Tool | Function |\n",
    "| --- | --- | --- |\n",
    "| 1 | R | Used for statistical analysis |\n",
    "| 2 | Apache Spark | Fast analytics engine for large scale data processing |\n",
    "| 3 | Tableau | Simplifies raw data into understandable format |\n",
    "| 4 | SAS | Facilitates analyzing, reporting, and mining of data |\n",
    "| 5 | Jupyter | Helps to clean, transform and visualize data |\n",
    "| 6 | Matplotlib | Generates graphs with analyzed data |"
   ]
  },
  {
   "cell_type": "markdown",
   "id": "3425c12a",
   "metadata": {},
   "source": [
    "We are using Python to create this code, and we can create some arithmetric expression, as you can se below:"
   ]
  },
  {
   "cell_type": "code",
   "execution_count": 6,
   "id": "b4ff91c5",
   "metadata": {},
   "outputs": [
    {
     "name": "stdout",
     "output_type": "stream",
     "text": [
      "Multiplication: 9 x 80 = 720\n",
      "Sum: 5809 + 3423 + 2583 = 11815\n"
     ]
    }
   ],
   "source": [
    "# Multiplication\n",
    "calculate = 9*80\n",
    "print(\"Multiplication: 9 x 80 =\", calculate)\n",
    "\n",
    "# Sum\n",
    "calculate_2 = 5809+3423+2583\n",
    "print(\"Sum: 5809 + 3423 + 2583 =\", calculate_2)"
   ]
  },
  {
   "cell_type": "markdown",
   "id": "10875ba0",
   "metadata": {},
   "source": [
    "Other function of Python expressions can br convert minutes to hours, for it you just need to divide the minutes by 60:"
   ]
  },
  {
   "cell_type": "code",
   "execution_count": 28,
   "id": "7b2f8d5b",
   "metadata": {},
   "outputs": [
    {
     "name": "stdout",
     "output_type": "stream",
     "text": [
      "Conversion = 21 h\n"
     ]
    }
   ],
   "source": [
    "# Convert 1260 minutes to hours\n",
    "calculate_3 = 1260/60\n",
    "print(\"Conversion =\", int(calculate_3),\"h\")"
   ]
  },
  {
   "cell_type": "markdown",
   "id": "23686857",
   "metadata": {},
   "source": [
    "So, the objective of this Jupyter is to compile and resume some of the main functionalities learned on this course."
   ]
  },
  {
   "cell_type": "markdown",
   "id": "6c1cb766",
   "metadata": {},
   "source": [
    "### Author: Filipe Santos *(github: filipenetinho)*"
   ]
  }
 ],
 "metadata": {
  "kernelspec": {
   "display_name": "Python 3 (ipykernel)",
   "language": "python",
   "name": "python3"
  },
  "language_info": {
   "codemirror_mode": {
    "name": "ipython",
    "version": 3
   },
   "file_extension": ".py",
   "mimetype": "text/x-python",
   "name": "python",
   "nbconvert_exporter": "python",
   "pygments_lexer": "ipython3",
   "version": "3.9.13"
  }
 },
 "nbformat": 4,
 "nbformat_minor": 5
}
